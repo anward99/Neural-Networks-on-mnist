{
 "cells": [
  {
   "cell_type": "code",
   "execution_count": 3,
   "id": "af8fed3b",
   "metadata": {
    "scrolled": true
   },
   "outputs": [
    {
     "name": "stdout",
     "output_type": "stream",
     "text": [
      "Requirement already satisfied: tensorflow in c:\\users\\50328\\anaconda3\\lib\\site-packages (2.16.1)\n",
      "Requirement already satisfied: tensorflow-intel==2.16.1 in c:\\users\\50328\\anaconda3\\lib\\site-packages (from tensorflow) (2.16.1)\n",
      "Requirement already satisfied: absl-py>=1.0.0 in c:\\users\\50328\\anaconda3\\lib\\site-packages (from tensorflow-intel==2.16.1->tensorflow) (2.1.0)\n",
      "Requirement already satisfied: astunparse>=1.6.0 in c:\\users\\50328\\anaconda3\\lib\\site-packages (from tensorflow-intel==2.16.1->tensorflow) (1.6.3)\n",
      "Requirement already satisfied: flatbuffers>=23.5.26 in c:\\users\\50328\\anaconda3\\lib\\site-packages (from tensorflow-intel==2.16.1->tensorflow) (24.3.7)\n",
      "Requirement already satisfied: gast!=0.5.0,!=0.5.1,!=0.5.2,>=0.2.1 in c:\\users\\50328\\anaconda3\\lib\\site-packages (from tensorflow-intel==2.16.1->tensorflow) (0.5.4)\n",
      "Requirement already satisfied: google-pasta>=0.1.1 in c:\\users\\50328\\anaconda3\\lib\\site-packages (from tensorflow-intel==2.16.1->tensorflow) (0.2.0)\n",
      "Requirement already satisfied: h5py>=3.10.0 in c:\\users\\50328\\anaconda3\\lib\\site-packages (from tensorflow-intel==2.16.1->tensorflow) (3.10.0)\n",
      "Requirement already satisfied: libclang>=13.0.0 in c:\\users\\50328\\anaconda3\\lib\\site-packages (from tensorflow-intel==2.16.1->tensorflow) (18.1.1)\n",
      "Requirement already satisfied: ml-dtypes~=0.3.1 in c:\\users\\50328\\anaconda3\\lib\\site-packages (from tensorflow-intel==2.16.1->tensorflow) (0.3.2)\n",
      "Requirement already satisfied: opt-einsum>=2.3.2 in c:\\users\\50328\\anaconda3\\lib\\site-packages (from tensorflow-intel==2.16.1->tensorflow) (3.3.0)\n",
      "Requirement already satisfied: packaging in c:\\users\\50328\\anaconda3\\lib\\site-packages (from tensorflow-intel==2.16.1->tensorflow) (23.0)\n",
      "Requirement already satisfied: protobuf!=4.21.0,!=4.21.1,!=4.21.2,!=4.21.3,!=4.21.4,!=4.21.5,<5.0.0dev,>=3.20.3 in c:\\users\\50328\\anaconda3\\lib\\site-packages (from tensorflow-intel==2.16.1->tensorflow) (4.25.3)\n",
      "Requirement already satisfied: requests<3,>=2.21.0 in c:\\users\\50328\\anaconda3\\lib\\site-packages (from tensorflow-intel==2.16.1->tensorflow) (2.31.0)\n",
      "Requirement already satisfied: setuptools in c:\\users\\50328\\anaconda3\\lib\\site-packages (from tensorflow-intel==2.16.1->tensorflow) (68.0.0)\n",
      "Requirement already satisfied: six>=1.12.0 in c:\\users\\50328\\anaconda3\\lib\\site-packages (from tensorflow-intel==2.16.1->tensorflow) (1.16.0)\n",
      "Requirement already satisfied: termcolor>=1.1.0 in c:\\users\\50328\\anaconda3\\lib\\site-packages (from tensorflow-intel==2.16.1->tensorflow) (2.4.0)\n",
      "Requirement already satisfied: typing-extensions>=3.6.6 in c:\\users\\50328\\anaconda3\\lib\\site-packages (from tensorflow-intel==2.16.1->tensorflow) (4.7.1)\n",
      "Requirement already satisfied: wrapt>=1.11.0 in c:\\users\\50328\\anaconda3\\lib\\site-packages (from tensorflow-intel==2.16.1->tensorflow) (1.14.1)\n",
      "Requirement already satisfied: grpcio<2.0,>=1.24.3 in c:\\users\\50328\\anaconda3\\lib\\site-packages (from tensorflow-intel==2.16.1->tensorflow) (1.62.1)\n",
      "Requirement already satisfied: tensorboard<2.17,>=2.16 in c:\\users\\50328\\anaconda3\\lib\\site-packages (from tensorflow-intel==2.16.1->tensorflow) (2.16.2)\n",
      "Requirement already satisfied: keras>=3.0.0 in c:\\users\\50328\\anaconda3\\lib\\site-packages (from tensorflow-intel==2.16.1->tensorflow) (3.1.1)\n",
      "Requirement already satisfied: tensorflow-io-gcs-filesystem>=0.23.1 in c:\\users\\50328\\anaconda3\\lib\\site-packages (from tensorflow-intel==2.16.1->tensorflow) (0.31.0)\n",
      "Requirement already satisfied: numpy<2.0.0,>=1.23.5 in c:\\users\\50328\\anaconda3\\lib\\site-packages (from tensorflow-intel==2.16.1->tensorflow) (1.24.3)\n",
      "Requirement already satisfied: wheel<1.0,>=0.23.0 in c:\\users\\50328\\anaconda3\\lib\\site-packages (from astunparse>=1.6.0->tensorflow-intel==2.16.1->tensorflow) (0.38.4)\n",
      "Requirement already satisfied: rich in c:\\users\\50328\\anaconda3\\lib\\site-packages (from keras>=3.0.0->tensorflow-intel==2.16.1->tensorflow) (13.7.1)\n",
      "Requirement already satisfied: namex in c:\\users\\50328\\anaconda3\\lib\\site-packages (from keras>=3.0.0->tensorflow-intel==2.16.1->tensorflow) (0.0.7)\n",
      "Requirement already satisfied: optree in c:\\users\\50328\\anaconda3\\lib\\site-packages (from keras>=3.0.0->tensorflow-intel==2.16.1->tensorflow) (0.10.0)\n",
      "Requirement already satisfied: charset-normalizer<4,>=2 in c:\\users\\50328\\anaconda3\\lib\\site-packages (from requests<3,>=2.21.0->tensorflow-intel==2.16.1->tensorflow) (2.0.4)\n",
      "Requirement already satisfied: idna<4,>=2.5 in c:\\users\\50328\\anaconda3\\lib\\site-packages (from requests<3,>=2.21.0->tensorflow-intel==2.16.1->tensorflow) (3.4)\n",
      "Requirement already satisfied: urllib3<3,>=1.21.1 in c:\\users\\50328\\anaconda3\\lib\\site-packages (from requests<3,>=2.21.0->tensorflow-intel==2.16.1->tensorflow) (1.26.16)\n",
      "Requirement already satisfied: certifi>=2017.4.17 in c:\\users\\50328\\anaconda3\\lib\\site-packages (from requests<3,>=2.21.0->tensorflow-intel==2.16.1->tensorflow) (2023.7.22)\n",
      "Requirement already satisfied: markdown>=2.6.8 in c:\\users\\50328\\anaconda3\\lib\\site-packages (from tensorboard<2.17,>=2.16->tensorflow-intel==2.16.1->tensorflow) (3.4.1)\n",
      "Requirement already satisfied: tensorboard-data-server<0.8.0,>=0.7.0 in c:\\users\\50328\\anaconda3\\lib\\site-packages (from tensorboard<2.17,>=2.16->tensorflow-intel==2.16.1->tensorflow) (0.7.2)\n",
      "Requirement already satisfied: werkzeug>=1.0.1 in c:\\users\\50328\\anaconda3\\lib\\site-packages (from tensorboard<2.17,>=2.16->tensorflow-intel==2.16.1->tensorflow) (2.2.3)\n",
      "Requirement already satisfied: MarkupSafe>=2.1.1 in c:\\users\\50328\\anaconda3\\lib\\site-packages (from werkzeug>=1.0.1->tensorboard<2.17,>=2.16->tensorflow-intel==2.16.1->tensorflow) (2.1.1)\n",
      "Requirement already satisfied: markdown-it-py>=2.2.0 in c:\\users\\50328\\anaconda3\\lib\\site-packages (from rich->keras>=3.0.0->tensorflow-intel==2.16.1->tensorflow) (2.2.0)\n",
      "Requirement already satisfied: pygments<3.0.0,>=2.13.0 in c:\\users\\50328\\anaconda3\\lib\\site-packages (from rich->keras>=3.0.0->tensorflow-intel==2.16.1->tensorflow) (2.15.1)\n",
      "Requirement already satisfied: mdurl~=0.1 in c:\\users\\50328\\anaconda3\\lib\\site-packages (from markdown-it-py>=2.2.0->rich->keras>=3.0.0->tensorflow-intel==2.16.1->tensorflow) (0.1.0)\n"
     ]
    }
   ],
   "source": [
    "!pip install tensorflow"
   ]
  },
  {
   "cell_type": "code",
   "execution_count": 9,
   "id": "572b07a0",
   "metadata": {},
   "outputs": [
    {
     "name": "stdout",
     "output_type": "stream",
     "text": [
      "Activation: linear, Accuracy: 0.9216, Execution Time: 39.92 seconds\n",
      "Activation: relu, Accuracy: 0.9812, Execution Time: 42.89 seconds\n",
      "Activation: sigmoid, Accuracy: 0.9781, Execution Time: 43.90 seconds\n"
     ]
    }
   ],
   "source": [
    "import time\n",
    "from tensorflow.keras.datasets import mnist\n",
    "from tensorflow.keras.utils import to_categorical\n",
    "from tensorflow.keras.models import Sequential\n",
    "from tensorflow.keras.layers import Dense, Input\n",
    "from tensorflow.keras.optimizers import Adam\n",
    "\n",
    "# Function to create the model with specified activation function\n",
    "def create_model(activation='relu', optimizer='adam'):\n",
    "    model = Sequential([\n",
    "        Input(shape=(784,)), # Define the input shape explicitly with an Input layer\n",
    "        Dense(512, activation=activation),\n",
    "        Dense(256, activation=activation),\n",
    "        Dense(10, activation='softmax'), # Output layer for 10 classes\n",
    "    ])\n",
    "    \n",
    "    model.compile(optimizer=optimizer,\n",
    "                  loss='categorical_crossentropy',\n",
    "                  metrics=['accuracy'])\n",
    "    return model\n",
    "\n",
    "# Load the MNIST dataset\n",
    "(x_train, y_train), (x_test, y_test) = mnist.load_data()\n",
    "\n",
    "# Preprocess the data: Flatten and normalize the images\n",
    "x_train = x_train.reshape(-1, 784).astype('float32') / 255\n",
    "x_test = x_test.reshape(-1, 784).astype('float32') / 255\n",
    "\n",
    "# Convert class vectors to binary class matrices (for use with categorical_crossentropy)\n",
    "y_train = to_categorical(y_train, 10)\n",
    "y_test = to_categorical(y_test, 10)\n",
    "\n",
    "# List of activation functions to test\n",
    "activation_functions = ['linear', 'relu', 'sigmoid']\n",
    "\n",
    "# Dictionary to store results\n",
    "results = {}\n",
    "\n",
    "# Experiment with different activation functions\n",
    "for activation in activation_functions:\n",
    "    model = create_model(activation=activation)\n",
    "    \n",
    "    # Measure execution time\n",
    "    start_time = time.time()\n",
    "    history = model.fit(x_train, y_train, epochs=10, batch_size=128, verbose=0, validation_split=0.1)\n",
    "    exec_time = time.time() - start_time\n",
    "    \n",
    "    # Evaluate model\n",
    "    test_loss, test_acc = model.evaluate(x_test, y_test, verbose=0)\n",
    "    \n",
    "    # Store results\n",
    "    results[activation] = {'accuracy': test_acc, 'execution_time': exec_time}\n",
    "    print(f\"Activation: {activation}, Accuracy: {test_acc:.4f}, Execution Time: {exec_time:.2f} seconds\")"
   ]
  },
  {
   "cell_type": "code",
   "execution_count": 11,
   "id": "72397fb7",
   "metadata": {},
   "outputs": [
    {
     "name": "stdout",
     "output_type": "stream",
     "text": [
      "Optimizer: SGD, Accuracy: 0.9380, Execution Time: 38.34 seconds\n",
      "Optimizer: RMSprop, Accuracy: 0.9847, Execution Time: 40.16 seconds\n",
      "Optimizer: Adagrad, Accuracy: 0.9110, Execution Time: 37.19 seconds\n"
     ]
    }
   ],
   "source": [
    "# List of optimizer\n",
    "optimizers = {\n",
    "    'SGD': 'sgd',\n",
    "    'RMSprop': 'rmsprop',\n",
    "    'Adagrad': 'adagrad'\n",
    "}\n",
    "\n",
    "# Dictionary to store results\n",
    "results = {}\n",
    "\n",
    "# Experiment with different optimizers.\n",
    "for opt_name, optimizer in optimizers.items():\n",
    "    model = create_model(optimizer=optimizer)\n",
    "    \n",
    "    # Measure execution time\n",
    "    start_time = time.time()\n",
    "    history = model.fit(x_train, y_train, epochs=10, batch_size=128, verbose=0, validation_split=0.1)\n",
    "    exec_time = time.time() - start_time\n",
    "    \n",
    "    # Evaluate model\n",
    "    test_loss, test_acc = model.evaluate(x_test, y_test, verbose=0)\n",
    "    \n",
    "    # Store results\n",
    "    results[opt_name] = {'accuracy': test_acc, 'execution_time': exec_time}\n",
    "    print(f\"Optimizer: {opt_name}, Accuracy: {test_acc:.4f}, Execution Time: {exec_time:.2f} seconds\")"
   ]
  },
  {
   "cell_type": "markdown",
   "id": "deed067f",
   "metadata": {},
   "source": [
    "# Regularization"
   ]
  },
  {
   "cell_type": "code",
   "execution_count": 12,
   "id": "13524f30",
   "metadata": {},
   "outputs": [],
   "source": [
    "import numpy as np\n",
    "from tensorflow import keras\n",
    "from tensorflow.keras.models import Sequential\n",
    "from tensorflow.keras.layers import Dense, Dropout, BatchNormalization, Input\n",
    "from tensorflow.keras.initializers import HeNormal, GlorotUniform\n",
    "\n",
    "def create_model(use_dropout=False, dropout_rate=0.5, use_batchnorm=False, weight_initializer='glorot_uniform'):\n",
    "    model = Sequential()\n",
    "    model.add(Input(shape=(784,)))\n",
    "\n",
    "    # First hidden layer\n",
    "    if use_batchnorm:\n",
    "        model.add(Dense(512, kernel_initializer=weight_initializer))\n",
    "        model.add(BatchNormalization())\n",
    "        model.add(keras.layers.Activation('relu'))\n",
    "    else:\n",
    "        model.add(Dense(512, activation='relu', kernel_initializer=weight_initializer))\n",
    "    \n",
    "    if use_dropout:\n",
    "        model.add(Dropout(dropout_rate))\n",
    "    \n",
    "    # Second hidden layer\n",
    "    if use_batchnorm:\n",
    "        model.add(Dense(256, kernel_initializer=weight_initializer))\n",
    "        model.add(BatchNormalization())\n",
    "        model.add(keras.layers.Activation('relu'))\n",
    "    else:\n",
    "        model.add(Dense(256, activation='relu', kernel_initializer=weight_initializer))\n",
    "    \n",
    "    if use_dropout:\n",
    "        model.add(Dropout(dropout_rate))\n",
    "    \n",
    "    # Output layer\n",
    "    model.add(Dense(10, activation='softmax'))\n",
    "    \n",
    "    model.compile(optimizer='adam', loss='categorical_crossentropy', metrics=['accuracy'])\n",
    "    \n",
    "    return model"
   ]
  },
  {
   "cell_type": "code",
   "execution_count": 15,
   "id": "1f5d92a5",
   "metadata": {},
   "outputs": [
    {
     "name": "stdout",
     "output_type": "stream",
     "text": [
      "Baseline: Accuracy = 0.9785, Execution Time = 37.99 seconds\n",
      "Dropout: Accuracy = 0.9830, Execution Time = 47.93 seconds\n",
      "BatchNorm: Accuracy = 0.9761, Execution Time = 48.50 seconds\n",
      "HeNormal Initialization: Accuracy = 0.9806, Execution Time = 44.20 seconds\n"
     ]
    }
   ],
   "source": [
    "# Configuration options for experiments\n",
    "experiments = {\n",
    "    \"Baseline\": {\"use_dropout\": False, \"use_batchnorm\": False, \"weight_initializer\": \"glorot_uniform\"},\n",
    "    \"Dropout\": {\"use_dropout\": True, \"dropout_rate\": 0.2, \"use_batchnorm\": False, \"weight_initializer\": \"glorot_uniform\"},\n",
    "    \"BatchNorm\": {\"use_dropout\": False, \"use_batchnorm\": True, \"weight_initializer\": \"glorot_uniform\"},\n",
    "    \"HeNormal Initialization\": {\"use_dropout\": False, \"use_batchnorm\": False, \"weight_initializer\": HeNormal()},\n",
    "}\n",
    "\n",
    "# Dictionary to store results\n",
    "results = {}\n",
    "\n",
    "for name, config in experiments.items():\n",
    "    model = create_model(**config)\n",
    "    start_time = time.time()\n",
    "    history = model.fit(x_train, y_train, epochs=10, batch_size=128, verbose=0, validation_split=0.1)\n",
    "    exec_time = time.time() - start_time\n",
    "    test_loss, test_acc = model.evaluate(x_test, y_test, verbose=0)\n",
    "    results[name] = {'accuracy': test_acc, 'execution_time': exec_time}\n",
    "    print(f\"{name}: Accuracy = {test_acc:.4f}, Execution Time = {exec_time:.2f} seconds\")"
   ]
  }
 ],
 "metadata": {
  "kernelspec": {
   "display_name": "Python 3 (ipykernel)",
   "language": "python",
   "name": "python3"
  },
  "language_info": {
   "codemirror_mode": {
    "name": "ipython",
    "version": 3
   },
   "file_extension": ".py",
   "mimetype": "text/x-python",
   "name": "python",
   "nbconvert_exporter": "python",
   "pygments_lexer": "ipython3",
   "version": "3.11.4"
  }
 },
 "nbformat": 4,
 "nbformat_minor": 5
}
